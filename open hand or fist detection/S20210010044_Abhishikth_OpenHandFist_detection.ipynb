{
 "cells": [
  {
   "cell_type": "code",
   "execution_count": 3,
   "id": "327e5c4c",
   "metadata": {},
   "outputs": [],
   "source": [
    "import cv2\n",
    "import mediapipe as mp\n",
    "\n",
    "def detect_hand_gesture(frame):\n",
    "    mp_hands = mp.solutions.hands\n",
    "    hands = mp_hands.Hands()\n",
    "\n",
    "    frame_rgb = cv2.cvtColor(frame, cv2.COLOR_BGR2RGB)\n",
    "\n",
    "    results = hands.process(frame_rgb)\n",
    "\n",
    "    if results.multi_hand_landmarks:\n",
    "        for hand_landmarks in results.multi_hand_landmarks:\n",
    "            landmarks = [[landmark.x, landmark.y, landmark.z] for landmark in hand_landmarks.landmark]\n",
    "\n",
    "            wrist = landmarks[0]\n",
    "            index_tip = landmarks[8]\n",
    "            middle_base = landmarks[12]\n",
    "\n",
    "            dist_index_middle = ((index_tip[0] - middle_base[0])**2 + (index_tip[1] - middle_base[1])**2)**0.5\n",
    "            dist_wrist_index = ((wrist[0] - index_tip[0])**2 + (wrist[1] - index_tip[1])**2)**0.5\n",
    "\n",
    "            if dist_index_middle < 0.05:\n",
    "                return \"Fist\"\n",
    "            elif dist_wrist_index > 0.1: \n",
    "                return \"Open Hand\"\n",
    "\n",
    "    return \"No Hand\"\n",
    "\n",
    "cap = cv2.VideoCapture(0)\n",
    "\n",
    "while cap.isOpened():\n",
    "    ret, frame = cap.read()\n",
    "    if not ret:\n",
    "        break\n",
    "\n",
    "    gesture = detect_hand_gesture(frame)\n",
    "    cv2.putText(frame, gesture, (10, 50), cv2.FONT_HERSHEY_SIMPLEX, 1, (0, 255, 0), 2)\n",
    "\n",
    "    cv2.imshow('Hand Gesture Detection', frame)\n",
    "\n",
    "    if cv2.waitKey(1) & 0xFF == 27: \n",
    "        break\n",
    "\n",
    "cap.release()\n",
    "cv2.destroyAllWindows()\n"
   ]
  },
  {
   "cell_type": "code",
   "execution_count": null,
   "id": "d179a37b",
   "metadata": {},
   "outputs": [],
   "source": []
  },
  {
   "cell_type": "code",
   "execution_count": null,
   "id": "29428a0b",
   "metadata": {},
   "outputs": [],
   "source": []
  }
 ],
 "metadata": {
  "kernelspec": {
   "display_name": "Python 3 (ipykernel)",
   "language": "python",
   "name": "python3"
  },
  "language_info": {
   "codemirror_mode": {
    "name": "ipython",
    "version": 3
   },
   "file_extension": ".py",
   "mimetype": "text/x-python",
   "name": "python",
   "nbconvert_exporter": "python",
   "pygments_lexer": "ipython3",
   "version": "3.11.4"
  }
 },
 "nbformat": 4,
 "nbformat_minor": 5
}
